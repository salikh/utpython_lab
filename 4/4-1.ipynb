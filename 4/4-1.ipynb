{
 "cells": [
  {
   "cell_type": "code",
   "execution_count": null,
   "metadata": {},
   "outputs": [],
   "source": [
    "# MASTER ONLY\n",
    "\n",
    "%load_ext prog_edu_assistant_tools.magics\n",
    "from prog_edu_assistant_tools.magics import report, autotest\n",
    "from random import randint"
   ]
  },
  {
   "cell_type": "markdown",
   "metadata": {},
   "source": [
    "## 練習\n",
    "```\n",
    "# ASSIGNMENT METADATA\n",
    "assignment_id: \"q41\"\n",
    "```\n",
    "\n",
    "文字列 `name` をファイル名とするファイルをオープンして、\n",
    "`read()` のメソッドによってファイル全体を文字列として読み込み、\n",
    "その文字数を返す関数 `number_of_characters(name)` を作成してください。\n",
    "\n",
    "注意：`return` する前にファイルをクローズすることを忘れないようにしてください。\n",
    "\n",
    "```\n",
    "# EXERCISE METADATA\n",
    "exercise_id: \"NumberOfCharacters\"\n",
    "```"
   ]
  },
  {
   "cell_type": "code",
   "execution_count": null,
   "metadata": {},
   "outputs": [],
   "source": [
    "%%solution\n",
    "def number_of_characters(name):\n",
    "    # BEGIN SOLUTION\n",
    "    with open(name, 'r') as f:\n",
    "        return len(f.read())\n",
    "    # END SOLUTION"
   ]
  },
  {
   "cell_type": "markdown",
   "metadata": {},
   "source": [
    "上のセルで解答を作成した後、以下のセルを実行し、実行結果が `True` になることを確認してください。"
   ]
  },
  {
   "cell_type": "code",
   "execution_count": null,
   "metadata": {
    "tags": [
     "raises-exception"
    ]
   },
   "outputs": [],
   "source": [
    "%%studenttest StudentTest_NumberOfCharacters\n",
    "print(number_of_characters('sample.txt') == 446)"
   ]
  },
  {
   "cell_type": "code",
   "execution_count": null,
   "metadata": {},
   "outputs": [],
   "source": [
    "%%inlinetest AutograderTest_NumberOfCharacters\n",
    "from inspect import signature\n",
    "from random import randint\n",
    "assert 'number_of_characters' in globals(), \"Did you define the function number_of_characters?\"\n",
    "assert str(number_of_characters.__class__) == \"<class 'function'>\", f\"number_of_characters should be a function. Found {number_of_characters.__class__}.\"\n",
    "assert len(signature(number_of_characters).parameters) == 1, f\"The number_of_characters function should take one parameter. Found {len(signature(number_of_characters).parameters)} parameters.\"\n",
    "lines = ['a' * randint(10, 100) + '\\n' for i in range(randint(10, 20))]\n",
    "content = ''.join(lines)\n",
    "with open('test.txt', 'w') as f:\n",
    "    f.write(content)\n",
    "res = number_of_characters('test.txt')\n",
    "assert res is not None, f\"Did you return a value? Got {res}\"\n",
    "assert str(res.__class__) == \"<class 'int'>\", f\"Did you return a number? Got {res.__class__}\"    \n",
    "assert res != len(content) - 1, \"Almost correct. Did you miss a newline at the end of the file?\"\n",
    "assert res == len(content), \"Did you count characters correctly?\""
   ]
  },
  {
   "cell_type": "code",
   "execution_count": null,
   "metadata": {},
   "outputs": [],
   "source": [
    "%%inlinetest AutograderTest_NumberOfCharacters_Unicode\n",
    "content = '¯\\_(ツ)_/¯'\n",
    "with open('test_unicode.txt', 'w') as f:\n",
    "    f.write(content)\n",
    "res = number_of_characters('test_unicode.txt')\n",
    "assert res == len(content), \"Did you consider unicode characters?\""
   ]
  },
  {
   "cell_type": "code",
   "execution_count": null,
   "metadata": {},
   "outputs": [],
   "source": [
    "%%inlinetest AutograderTest_NumberOfCharacters_ClosesFile\n",
    "from unittest import mock\n",
    "with mock.patch('builtins.open', mock.mock_open(read_data='content')) as m:\n",
    "    try:\n",
    "        number_of_characters('test_close.txt')\n",
    "    except:\n",
    "        pass\n",
    "    open_count = m.call_count\n",
    "    close_count = m().close.call_count + m().__exit__.call_count\n",
    "    assert open_count != 0, \"Did you use the built-in open() function to open the file?\"\n",
    "    assert close_count >= open_count, \"Did you close the file?\""
   ]
  },
  {
   "cell_type": "code",
   "execution_count": null,
   "metadata": {},
   "outputs": [],
   "source": [
    "%%submission\n",
    "# Correct solution\n",
    "def number_of_characters(name):\n",
    "    with open(name, 'r') as f:\n",
    "        return len(f.read())"
   ]
  },
  {
   "cell_type": "code",
   "execution_count": null,
   "metadata": {},
   "outputs": [],
   "source": [
    "result, log = %autotest AutograderTest_NumberOfCharacters\n",
    "assert result.results['passed']\n",
    "result, log = %autotest AutograderTest_NumberOfCharacters_Unicode\n",
    "assert result.results['passed']\n",
    "result, log = %autotest AutograderTest_NumberOfCharacters_ClosesFile\n",
    "assert result.results['passed']"
   ]
  },
  {
   "cell_type": "code",
   "execution_count": null,
   "metadata": {},
   "outputs": [],
   "source": [
    "%%submission\n",
    "# Incorrect submission\n",
    "def number_of_characters(name):\n",
    "    with open(name, 'rb') as f:\n",
    "        return len(f.read())"
   ]
  },
  {
   "cell_type": "code",
   "execution_count": null,
   "metadata": {},
   "outputs": [],
   "source": [
    "result, log = %autotest AutograderTest_NumberOfCharacters_Unicode\n",
    "assert not result.results['passed']\n",
    "report(AutograderTest_NumberOfCharacters_Unicode, source=submission_source.source, results=result.results)"
   ]
  },
  {
   "cell_type": "code",
   "execution_count": null,
   "metadata": {},
   "outputs": [],
   "source": [
    "%%submission\n",
    "# Incorrect submission\n",
    "def number_of_characters(name):\n",
    "    f = open(name, 'r')\n",
    "    s = f.read()\n",
    "    return len(s)"
   ]
  },
  {
   "cell_type": "code",
   "execution_count": null,
   "metadata": {},
   "outputs": [],
   "source": [
    "result, log = %autotest AutograderTest_NumberOfCharacters_ClosesFile\n",
    "assert not result.results['passed']\n",
    "print(result.results['error'])"
   ]
  },
  {
   "cell_type": "markdown",
   "metadata": {},
   "source": [
    "## 練習\n",
    "文字列 `name` をファイル名とするファイルの最後の行を文字列として返す関数 `last_line(name)` を定義してください。\n",
    "\n",
    "```\n",
    "# EXERCISE METADATA\n",
    "exercise_id: \"LastLine\"\n",
    "```"
   ]
  },
  {
   "cell_type": "code",
   "execution_count": null,
   "metadata": {},
   "outputs": [],
   "source": [
    "def last_line(name):\n",
    "# BEGIN SOLUTION\n",
    "    last = ''\n",
    "    with open(name, 'r') as f:\n",
    "        while True:\n",
    "            line = f.readline()\n",
    "            if line == '':\n",
    "                return last\n",
    "            last = line\n",
    "# END SOLUTION"
   ]
  },
  {
   "cell_type": "markdown",
   "metadata": {},
   "source": [
    "上のセルで解答を作成した後、以下のセルを実行し、実行結果が `True` になることを確認してください。"
   ]
  },
  {
   "cell_type": "code",
   "execution_count": null,
   "metadata": {
    "scrolled": true,
    "tags": [
     "raises-exception"
    ]
   },
   "outputs": [],
   "source": [
    "%%studenttest StudentTest_LastLine\n",
    "print(last_line('sample.txt')==\"Excepteur sint occaecat cupidatat non proident, sunt in culpa qui officia deserunt mollit anim id est laborum.\\n\")"
   ]
  },
  {
   "cell_type": "code",
   "execution_count": null,
   "metadata": {},
   "outputs": [],
   "source": [
    "%%inlinetest AutograderTest_LastLine\n",
    "from inspect import signature\n",
    "from random import randint\n",
    "assert 'last_line' in globals(), \"Did you define the function last_line?\"\n",
    "assert str(last_line.__class__) == \"<class 'function'>\", f\"last_line should be a function. Found {last_line.__class__}.\"\n",
    "assert len(signature(last_line).parameters) == 1, f\"The last_line function should take one parameter. Found {len(signature(last_line).parameters)} parameters.\"\n",
    "lines = [f\"{i}th line\\n\" for i in range(randint(10, 20))]\n",
    "with open('test.txt', 'w') as f:\n",
    "    f.write(''.join(lines))\n",
    "res = last_line('test.txt')\n",
    "assert res is not None, f\"Did you return a value? Got {res}\"\n",
    "assert res != lines[-1][:-1], \"Expected an ending newline character.\"\n",
    "assert res == lines[-1], \"Did you return the last line?\""
   ]
  },
  {
   "cell_type": "code",
   "execution_count": null,
   "metadata": {},
   "outputs": [],
   "source": [
    "%%inlinetest AutograderTest_LastLine_Newline\n",
    "from random import randint\n",
    "lines = [f\"{i}th line\" for i in range(randint(10, 20))]\n",
    "with open('test_newline.txt', 'w') as f:\n",
    "    f.write('\\n'.join(lines))\n",
    "res = last_line('test_newline.txt')\n",
    "assert res != lines[-1] + '\\n', \"Did you add an extra newline character?\"\n",
    "assert res == lines[-1], \"Did you return the last line?\""
   ]
  },
  {
   "cell_type": "code",
   "execution_count": null,
   "metadata": {},
   "outputs": [],
   "source": [
    "%%inlinetest AutograderTest_LastLine_Empty\n",
    "with open('test_empty.txt', 'w') as f:\n",
    "    pass\n",
    "try:\n",
    "    res = last_line('test_empty.txt')\n",
    "    assert not res, \"Did you consider an empty file?\"\n",
    "except IndexError:\n",
    "    assert False, \"Did you consider an empty file?\"    "
   ]
  },
  {
   "cell_type": "code",
   "execution_count": null,
   "metadata": {},
   "outputs": [],
   "source": [
    "%%inlinetest AutograderTest_LastLine_ClosesFile\n",
    "from unittest import mock\n",
    "with mock.patch('builtins.open', mock.mock_open(read_data='content')) as m:\n",
    "    try:\n",
    "        last_line('test_close.txt')\n",
    "    except:\n",
    "        pass\n",
    "    open_count = m.call_count\n",
    "    close_count = m().close.call_count + m().__exit__.call_count\n",
    "    assert open_count != 0, \"Did you use the built-in open() function to open the file?\"\n",
    "    assert close_count >= open_count, \"Did you close the file?\""
   ]
  },
  {
   "cell_type": "code",
   "execution_count": null,
   "metadata": {},
   "outputs": [],
   "source": [
    "%%submission\n",
    "# Correct solution\n",
    "def last_line(name):\n",
    "    last = ''\n",
    "    with open(name, 'r') as f:\n",
    "        while True:\n",
    "            line = f.readline()\n",
    "            if line == '':\n",
    "                return last\n",
    "            last = line"
   ]
  },
  {
   "cell_type": "code",
   "execution_count": null,
   "metadata": {},
   "outputs": [],
   "source": [
    "result, log = %autotest AutograderTest_LastLine\n",
    "assert result.results['passed']\n",
    "result, log = %autotest AutograderTest_LastLine_Newline\n",
    "assert result.results['passed']\n",
    "result, log = %autotest AutograderTest_LastLine_Empty\n",
    "assert result.results['passed']\n",
    "result, log = %autotest AutograderTest_LastLine_ClosesFile\n",
    "assert result.results['passed']"
   ]
  },
  {
   "cell_type": "code",
   "execution_count": null,
   "metadata": {},
   "outputs": [],
   "source": [
    "%%submission\n",
    "# Incorrect submission\n",
    "def last_line(name):\n",
    "    with open(name, 'r') as f:\n",
    "        return f.readlines()[-1]"
   ]
  },
  {
   "cell_type": "code",
   "execution_count": null,
   "metadata": {},
   "outputs": [],
   "source": [
    "result, log = %autotest AutograderTest_LastLine_Empty\n",
    "assert not result.results['passed']\n",
    "print(result.results['error'])"
   ]
  },
  {
   "cell_type": "code",
   "execution_count": null,
   "metadata": {},
   "outputs": [],
   "source": [
    "%%submission\n",
    "# Incorrect submission\n",
    "def last_line(name):\n",
    "    with open(name, 'r') as f:\n",
    "        return f.read().splitlines()[-1]"
   ]
  },
  {
   "cell_type": "code",
   "execution_count": null,
   "metadata": {},
   "outputs": [],
   "source": [
    "result, log = %autotest AutograderTest_LastLine\n",
    "assert not result.results['passed']\n",
    "print(result.results['error'])"
   ]
  },
  {
   "cell_type": "code",
   "execution_count": null,
   "metadata": {},
   "outputs": [],
   "source": [
    "%%submission\n",
    "# Incorrect submission\n",
    "def last_line(name):\n",
    "    with open(name, 'r') as f:\n",
    "        return f.read().splitlines()[-1] + '\\n'"
   ]
  },
  {
   "cell_type": "code",
   "execution_count": null,
   "metadata": {},
   "outputs": [],
   "source": [
    "result, log = %autotest AutograderTest_LastLine_Newline\n",
    "assert not result.results['passed']\n",
    "print(result.results['error'])"
   ]
  },
  {
   "cell_type": "code",
   "execution_count": null,
   "metadata": {},
   "outputs": [],
   "source": [
    "%%submission\n",
    "# Incorrect submission\n",
    "def last_line(name):\n",
    "    f = open(name, 'r')\n",
    "    last = ''\n",
    "    while True:\n",
    "        line = f.readline()\n",
    "        if line == '':\n",
    "            return last\n",
    "        last = line"
   ]
  },
  {
   "cell_type": "code",
   "execution_count": null,
   "metadata": {},
   "outputs": [],
   "source": [
    "result, log = %autotest AutograderTest_LastLine_ClosesFile\n",
    "assert not result.results['passed']\n",
    "print(result.results['error'])"
   ]
  },
  {
   "cell_type": "markdown",
   "metadata": {
    "slideshow": {
     "slide_type": "skip"
    }
   },
   "source": [
    "## 練習\n",
    "\n",
    "2つのファイル名 `infile`, `outfile` を引数として、`infile` の半角英文字をすべて大文字にした結果を `outfile` に書き込む `file_upper(infile, outfile)` という関数を作成してください。   \n",
    "\n",
    "なお、半角英文字の小文字を大文字に変換するには `upper()` というメソッドが使えます。\n",
    "たとえば `line` という名前の変数に半角文字列が入っている場合、`line.upper()` とすれば小文字に変換した文字列を返します。\n",
    "\n",
    "```\n",
    "# EXERCISE METADATA\n",
    "exercise_id: \"FileUpper\"\n",
    "```"
   ]
  },
  {
   "cell_type": "code",
   "execution_count": null,
   "metadata": {},
   "outputs": [],
   "source": [
    "def file_upper(infile, outfile):\n",
    "# BEGIN SOLUTION\n",
    "    with open(infile, 'r') as f, open(outfile, 'w') as g:\n",
    "        g.write(f.read().upper())\n",
    "# END SOLUTION"
   ]
  },
  {
   "cell_type": "markdown",
   "metadata": {},
   "source": [
    "上のセルで解答を作成した後、以下のセルを実行し、実行結果が `True` になることを確認してください。"
   ]
  },
  {
   "cell_type": "code",
   "execution_count": null,
   "metadata": {
    "tags": [
     "raises-exception"
    ]
   },
   "outputs": [],
   "source": [
    "%%studenttest StudentTest_FileUpper\n",
    "with open('print-test.txt', 'w') as f:\n",
    "    print('hello', 'world', file=f)\n",
    "file_upper('print-test.txt', 'print-test-upper.txt')\n",
    "with open('print-test-upper.txt', 'r') as f:\n",
    "    print(f.read() == 'HELLO WORLD\\n')"
   ]
  },
  {
   "cell_type": "code",
   "execution_count": null,
   "metadata": {},
   "outputs": [],
   "source": [
    "%%inlinetest AutograderTest_FileUpper\n",
    "import os\n",
    "from inspect import signature\n",
    "from random import randint\n",
    "assert 'file_upper' in globals(), \"Did you define the function file_upper?\"\n",
    "assert str(file_upper.__class__) == \"<class 'function'>\", f\"file_upper should be a function. Found {file_upper.__class__}.\"\n",
    "assert len(signature(file_upper).parameters) == 2, f\"The file_upper function should take 2 parameters. Found {len(signature(file_upper).parameters)} parameters.\"\n",
    "lines = ['a' * randint(10, 100) + '\\n' for i in range(randint(10, 20))]\n",
    "input_content = ''.join(lines)\n",
    "with open('test_input.txt', 'w') as f:\n",
    "    f.write(input_content)\n",
    "file_upper('test_input.txt', 'test_output.txt')\n",
    "assert os.path.exists('test_output.txt'), \"The output file was not found.\"\n",
    "output_content = None\n",
    "with open('test_output.txt', 'r') as f:\n",
    "    output_content = f.read()\n",
    "assert len(output_content) == len(input_content), \"Expected the output file to be the same size as the input file.\"    \n",
    "assert output_content != input_content, \"Did you convert characters to uppercase? Found the output to be the same as the input.\"    \n",
    "assert output_content == input_content.upper(), \"Did you convert characters to uppercase correctly?\""
   ]
  },
  {
   "cell_type": "code",
   "execution_count": null,
   "metadata": {},
   "outputs": [],
   "source": [
    "%%inlinetest AutograderTest_FileUpper_ClosesFiles\n",
    "from unittest import mock\n",
    "with mock.patch('builtins.open', mock.mock_open(read_data='content')) as m:\n",
    "    try:\n",
    "        file_upper('test_close_input.txt', 'test_close_output.txt')\n",
    "    except:\n",
    "        pass\n",
    "    open_count = m.call_count\n",
    "    close_count = m().close.call_count + m().__exit__.call_count\n",
    "    assert open_count != 0, \"Did you use the built-in open() function to open the file?\"\n",
    "    assert close_count >= open_count, \"Did you close both files?\""
   ]
  },
  {
   "cell_type": "code",
   "execution_count": null,
   "metadata": {},
   "outputs": [],
   "source": [
    "%%submission\n",
    "# Correct solution\n",
    "def file_upper(infile, outfile):\n",
    "    with open(infile, 'r') as f, open(outfile, 'w') as g:\n",
    "        g.write(f.read().upper())"
   ]
  },
  {
   "cell_type": "code",
   "execution_count": null,
   "metadata": {},
   "outputs": [],
   "source": [
    "result, log = %autotest AutograderTest_FileUpper\n",
    "assert result.results['passed']\n",
    "result, log = %autotest AutograderTest_FileUpper_ClosesFiles\n",
    "assert result.results['passed']"
   ]
  },
  {
   "cell_type": "code",
   "execution_count": null,
   "metadata": {},
   "outputs": [],
   "source": [
    "%%submission\n",
    "# Incorrect submission\n",
    "def file_upper(infile, outfile):\n",
    "    f = open(infile, 'r')\n",
    "    with open(outfile, 'w') as g:\n",
    "        g.write(f.read().upper())"
   ]
  },
  {
   "cell_type": "code",
   "execution_count": null,
   "metadata": {},
   "outputs": [],
   "source": [
    "result, log = %autotest AutograderTest_FileUpper_ClosesFiles\n",
    "assert not result.results['passed']\n",
    "print(result.results['error'])"
   ]
  },
  {
   "cell_type": "code",
   "execution_count": null,
   "metadata": {},
   "outputs": [],
   "source": [
    "%%submission\n",
    "# Incorrect submission\n",
    "def file_upper(infile, outfile):\n",
    "    with open(infile, 'r') as f:\n",
    "        g = open(outfile, 'w')\n",
    "        g.write(f.read().upper())"
   ]
  },
  {
   "cell_type": "code",
   "execution_count": null,
   "metadata": {},
   "outputs": [],
   "source": [
    "result, log = %autotest AutograderTest_FileUpper_ClosesFiles\n",
    "assert not result.results['passed']\n",
    "print(result.results['error'])"
   ]
  },
  {
   "cell_type": "markdown",
   "metadata": {},
   "source": [
    "## 練習の解答"
   ]
  },
  {
   "cell_type": "code",
   "execution_count": null,
   "metadata": {},
   "outputs": [],
   "source": [
    "def  number_of_characters(name):\n",
    "    f = open(name, 'r')\n",
    "    s = f.read()\n",
    "    f.close()\n",
    "    return len(s)"
   ]
  },
  {
   "cell_type": "code",
   "execution_count": null,
   "metadata": {},
   "outputs": [],
   "source": [
    "def last_line(name):\n",
    "    last = ''\n",
    "    with open(name, 'r') as f:\n",
    "        while True:\n",
    "            line = f.readline()\n",
    "            if line == '':\n",
    "                return last\n",
    "            last = line"
   ]
  },
  {
   "cell_type": "code",
   "execution_count": null,
   "metadata": {},
   "outputs": [],
   "source": [
    "def file_upper(infile,outfile):\n",
    "    with open(infile, 'r') as f:\n",
    "        with open(outfile, 'w') as g:\n",
    "            g.write(f.read().upper())"
   ]
  },
  {
   "cell_type": "markdown",
   "metadata": {},
   "source": [
    "以下のように一つのwith文に複数の `open` を書くこともできます。"
   ]
  },
  {
   "cell_type": "code",
   "execution_count": null,
   "metadata": {},
   "outputs": [],
   "source": [
    "def file_upper(infile,outfile):\n",
    "    with open(infile, 'r') as f, open(outfile, 'w') as g:\n",
    "        g.write(f.read().upper())"
   ]
  }
 ],
 "metadata": {
  "kernelspec": {
   "display_name": "Python 3",
   "language": "python",
   "name": "python3"
  },
  "language_info": {
   "codemirror_mode": {
    "name": "ipython",
    "version": 3
   },
   "file_extension": ".py",
   "mimetype": "text/x-python",
   "name": "python",
   "nbconvert_exporter": "python",
   "pygments_lexer": "ipython3",
   "version": "3.7.3"
  }
 },
 "nbformat": 4,
 "nbformat_minor": 2
}
