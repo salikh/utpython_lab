{
 "cells": [
  {
   "cell_type": "markdown",
   "metadata": {},
   "source": [
    "## 練習\n",
    "第1回では、数学関数を以下のようにインポートし、`math.sqrt()` のようにして、数学関数や数学関係の変数を利用していました。\n",
    "\n",
    "---\n",
    "```Python\n",
    "import math\n",
    "print(math.sqrt(2))\n",
    "print(math.sin(math.pi))\n",
    "```\n",
    "\n",
    "---\n",
    "\n",
    "以下のセルを、モジュール名を付けないでこれらの関数や変数を参照できるように変更してください。"
   ]
  },
  {
   "cell_type": "code",
   "execution_count": null,
   "metadata": {
    "tags": [
     "raises-exception"
    ]
   },
   "outputs": [],
   "source": [
    "import ...\n",
    "...\n",
    "\n",
    "print(sqrt(2))\n",
    "print(sin(pi))"
   ]
  },
  {
   "cell_type": "markdown",
   "metadata": {},
   "source": [
    "## 練習の解答\n",
    "\n",
    "`from` を使ってモジュールを指定、参照する関数を `import` でインポートしてください。 "
   ]
  },
  {
   "cell_type": "code",
   "execution_count": null,
   "metadata": {},
   "outputs": [],
   "source": [
    "%%solution\n",
    "from math import sqrt, sin, pi\n",
    "print(sqrt(2))\n",
    "print(sin(pi))"
   ]
  },
  {
   "cell_type": "code",
   "execution_count": null,
   "metadata": {},
   "outputs": [],
   "source": [
    "%%inlinetest AutograderTest_MathImport\n",
    "\n",
    "for name in [\"sqrt\", \"sin\", \"pi\"]:\n",
    "    assert name in globals(), f\"Cannot find {name}, is it imported from the math module?\"\n",
    "\n",
    "import math\n",
    "for symbol, moduleSymbol, name in [(sqrt, math.sqrt, \"sqrt\"), (sin, math.sin, \"sin\"), (pi, math.pi, \"pi\")]:\n",
    "    assert symbol == moduleSymbol, f\"Found {name} but it seems different to math.{name}, is {name} imported from the math module?\"\n",
    "\n",
    "# Double check the symbols by trying to use them.\n",
    "assert sqrt(2) == math.sqrt(2), f\"sqrt seems to behave differently to math.sqrt, is it imported from the math module?\"\n",
    "assert sin(pi) == math.sin(math.pi), f\"sin seems to behave differently to math.sin, is it imported from the math module?\"\n"
   ]
  }
 ],
 "metadata": {
  "kernelspec": {
   "display_name": "Python 3",
   "language": "python",
   "name": "python3"
  },
  "language_info": {
   "codemirror_mode": {
    "name": "ipython",
    "version": 3
   },
   "file_extension": ".py",
   "mimetype": "text/x-python",
   "name": "python",
   "nbconvert_exporter": "python",
   "pygments_lexer": "ipython3",
   "version": "3.6.7"
  }
 },
 "nbformat": 4,
 "nbformat_minor": 2
}
