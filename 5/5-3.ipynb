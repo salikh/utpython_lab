{
 "cells": [
  {
   "cell_type": "markdown",
   "metadata": {},
   "source": [
    "## 練習\n",
    "\n",
    "引数に整数 $n$ を取り、$i$ から始まる連番の整数からなる配列を$i$番目 ($i\\ge 0$) の行として持つ $n\\times n$ の2次元配列を返す関数 `range_square_matrix()` を、`arange()` を用いて定義してください。\n",
    "\n",
    "たとえば、`range_square_matrix(3)`は、\n",
    "```\n",
    "[[0 1 2]\n",
    " [1 2 3]\n",
    " [2 3 4]]\n",
    "```\n",
    "と印字されるような2次元配列を返します。"
   ]
  },
  {
   "cell_type": "code",
   "execution_count": null,
   "metadata": {},
   "outputs": [],
   "source": [
    "def arange_square_matrix(n):\n",
    "    ..."
   ]
  },
  {
   "cell_type": "markdown",
   "metadata": {},
   "source": [
    "以下のセルを実行して、`True` が表示されることを確認してください。"
   ]
  },
  {
   "cell_type": "code",
   "execution_count": null,
   "metadata": {
    "tags": [
     "raises-exception"
    ]
   },
   "outputs": [],
   "source": [
    "print(all(map(all,(arange_square_matrix(3) == np.array([[0,1,2],[1,2,3],[2,3,4]])))))"
   ]
  },
  {
   "cell_type": "markdown",
   "metadata": {},
   "source": [
    "## 練習の解答"
   ]
  },
  {
   "cell_type": "code",
   "execution_count": null,
   "metadata": {},
   "outputs": [],
   "source": [
    "%%solution\n",
    "def arange_square_matrix(n):\n",
    "    return np.array([np.arange(i, n+i) for i in range(n)])"
   ]
  },
  {
   "cell_type": "code",
   "execution_count": null,
   "metadata": {
    "tags": []
   },
   "outputs": [],
   "source": [
    "# %%inlinetest AutograderTest_arange_square_matrix\n",
    "\n",
    "assert \"arange_square_matrix\" in globals(), \"Did you define a function named arange_square_matrix?\"\n",
    "assert str(arange_square_matrix.__class__) == \"<class 'function'>\", f\"Did you define 'arange_square_matrix' as a function? There was a {arange_square_matrix.__class__} instead\"\n",
    "\n",
    "def test_arange_square_matrix(n, expected):\n",
    "    actual = arange_square_matrix(n)\n",
    "    assert actual is not None, f\"Did you return a value from the function? Called arange_square_matrix({n}), Got {actual}\"\n",
    "    assert str(actual.__class__) != \"<class 'list'>\", f\"Did you return a numpy array value? Got a Python list instead. You can convert a Python list to a numpy array using np.array\"\n",
    "    assert str(actual.__class__) == \"<class 'numpy.ndarray'>\", f\"Did you return a numpy array value? Got {actual.__class__} instead\"\n",
    "    assert len(actual.shape) == 2, f\"Did you return a 2-dimensional array? Got a {len(actual.shape)}-dimensional array instead\"\n",
    "    assert actual.shape == (n, n), f\"Did you return the array as a square matrix? Called arange_square_matrix({n}). Expected an array with size {n}x{n}, got size {actual.shape[0]}x{actual.shape[1]} instead\"\n",
    "    assert all(map(all,(expected == actual))), f\"Does the matrix returned have correct values? Called arange_square_matrix({n}).\\n\\nExpected:\\n{expected}\\n\\nGot this instead:\\n{actual}\"\n",
    "\n",
    "test_arange_square_matrix(2, np.array([[0, 1], [1, 2]]))\n",
    "test_arange_square_matrix(5, np.array([[0, 1, 2, 3, 4], [1, 2, 3, 4, 5], [2, 3, 4, 5, 6], [3, 4, 5, 6, 7], [4, 5, 6, 7, 8]]))"
   ]
  }
 ],
 "metadata": {
  "kernelspec": {
   "display_name": "Python 3",
   "language": "python",
   "name": "python3"
  },
  "language_info": {
   "codemirror_mode": {
    "name": "ipython",
    "version": 3
   },
   "file_extension": ".py",
   "mimetype": "text/x-python",
   "name": "python",
   "nbconvert_exporter": "python",
   "pygments_lexer": "ipython3",
   "version": "3.6.7"
  }
 },
 "nbformat": 4,
 "nbformat_minor": 2
}
